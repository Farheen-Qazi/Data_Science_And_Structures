{
  "cells": [
    {
      "cell_type": "markdown",
      "metadata": {
        "id": "view-in-github",
        "colab_type": "text"
      },
      "source": [
        "<a href=\"https://colab.research.google.com/github/Farheen-Qazi/Data_Science_And_Structures/blob/main/20SW055(LAB_12).ipynb\" target=\"_parent\"><img src=\"https://colab.research.google.com/assets/colab-badge.svg\" alt=\"Open In Colab\"/></a>"
      ]
    },
    {
      "cell_type": "markdown",
      "metadata": {
        "id": "JXg_OPP7G59B"
      },
      "source": [
        "# Text Processing\n",
        "\n",
        "## Capturing Text Data\n",
        "\n",
        "### Plain Text"
      ]
    },
    {
      "cell_type": "code",
      "execution_count": null,
      "metadata": {
        "id": "06Gy7zDRG59K",
        "colab": {
          "base_uri": "https://localhost:8080/",
          "height": 250
        },
        "outputId": "ec89d48b-0f37-4788-c12e-8a45de2e348c"
      },
      "outputs": [
        {
          "output_type": "error",
          "ename": "FileNotFoundError",
          "evalue": "ignored",
          "traceback": [
            "\u001b[0;31m---------------------------------------------------------------------------\u001b[0m",
            "\u001b[0;31mFileNotFoundError\u001b[0m                         Traceback (most recent call last)",
            "\u001b[0;32m<ipython-input-1-892c7ed983ac>\u001b[0m in \u001b[0;36m<cell line: 4>\u001b[0;34m()\u001b[0m\n\u001b[1;32m      2\u001b[0m \u001b[0;34m\u001b[0m\u001b[0m\n\u001b[1;32m      3\u001b[0m \u001b[0;31m# Read in a plain text file\u001b[0m\u001b[0;34m\u001b[0m\u001b[0;34m\u001b[0m\u001b[0m\n\u001b[0;32m----> 4\u001b[0;31m \u001b[0;32mwith\u001b[0m \u001b[0mopen\u001b[0m\u001b[0;34m(\u001b[0m\u001b[0mos\u001b[0m\u001b[0;34m.\u001b[0m\u001b[0mpath\u001b[0m\u001b[0;34m.\u001b[0m\u001b[0mjoin\u001b[0m\u001b[0;34m(\u001b[0m\u001b[0;34m\"data\"\u001b[0m\u001b[0;34m,\u001b[0m \u001b[0;34m\"hieroglyph.txt\"\u001b[0m\u001b[0;34m)\u001b[0m\u001b[0;34m,\u001b[0m \u001b[0;34m\"r\"\u001b[0m\u001b[0;34m)\u001b[0m \u001b[0;32mas\u001b[0m \u001b[0mf\u001b[0m\u001b[0;34m:\u001b[0m\u001b[0;34m\u001b[0m\u001b[0;34m\u001b[0m\u001b[0m\n\u001b[0m\u001b[1;32m      5\u001b[0m     \u001b[0mtext\u001b[0m \u001b[0;34m=\u001b[0m \u001b[0mf\u001b[0m\u001b[0;34m.\u001b[0m\u001b[0mread\u001b[0m\u001b[0;34m(\u001b[0m\u001b[0;34m)\u001b[0m\u001b[0;34m\u001b[0m\u001b[0;34m\u001b[0m\u001b[0m\n\u001b[1;32m      6\u001b[0m     \u001b[0mprint\u001b[0m\u001b[0;34m(\u001b[0m\u001b[0mtext\u001b[0m\u001b[0;34m)\u001b[0m\u001b[0;34m\u001b[0m\u001b[0;34m\u001b[0m\u001b[0m\n",
            "\u001b[0;31mFileNotFoundError\u001b[0m: [Errno 2] No such file or directory: 'data/hieroglyph.txt'"
          ]
        }
      ],
      "source": [
        "import os\n",
        "\n",
        "# Read in a plain text file\n",
        "with open(os.path.join(\"data\", \"hieroglyph.txt\"), \"r\") as f:\n",
        "    text = f.read()\n",
        "    print(text)"
      ]
    },
    {
      "cell_type": "markdown",
      "metadata": {
        "id": "e-o9Wc25G59O"
      },
      "source": [
        "### Tabular Data"
      ]
    },
    {
      "cell_type": "code",
      "execution_count": null,
      "metadata": {
        "scrolled": true,
        "id": "YHqSRCEPG59Q"
      },
      "outputs": [],
      "source": [
        "import pandas as pd\n",
        "\n",
        "# Extract text column from a dataframe\n",
        "df = pd.read_csv(os.path.join(\"data\", \"news.csv\"))\n",
        "df.head()[['publisher', 'title']]\n",
        "\n",
        "# Convert text column to lowercase\n",
        "df['title'] = df['title'].str.lower()\n",
        "df.head()[['publisher', 'title']]"
      ]
    },
    {
      "cell_type": "markdown",
      "metadata": {
        "id": "_qTkqnlFG59R"
      },
      "source": [
        "### Online Resource"
      ]
    },
    {
      "cell_type": "code",
      "execution_count": null,
      "metadata": {
        "scrolled": true,
        "id": "BAbiK2XZG59T"
      },
      "outputs": [],
      "source": [
        "import requests\n",
        "import json\n",
        "\n",
        "# Fetch data from a REST API\n",
        "r = requests.get(\n",
        "    \"https://quotes.rest/qod.json\")\n",
        "res = r.json()\n",
        "print(json.dumps(res, indent=4))\n",
        "\n",
        "# Extract relevant object and field\n",
        "q = res[\"contents\"][\"quotes\"][0]\n",
        "print(q[\"quote\"], \"\\n--\", q[\"author\"])"
      ]
    },
    {
      "cell_type": "markdown",
      "metadata": {
        "id": "gUuR9aR7G59U"
      },
      "source": [
        "## Cleaning"
      ]
    },
    {
      "cell_type": "code",
      "execution_count": null,
      "metadata": {
        "scrolled": true,
        "id": "HJddrgujG59V",
        "colab": {
          "base_uri": "https://localhost:8080/"
        },
        "outputId": "0cfcb939-f215-4970-d797-493da94a899c"
      },
      "outputs": [
        {
          "output_type": "stream",
          "name": "stdout",
          "text": [
            "<!doctype html><html><head><meta charset=\"utf-8\"/><link rel=\"icon\" href=\"../logo.png\"/><meta name=\"viewport\" content=\"width=device-width,initial-scale=1\"/><meta name=\"theme-color\" content=\"#000000\"/><meta name=\"description\" content=\"Zaid Ahmed Soomro, a software engineer who can turn your ideas and problems into a software solution. Zaid is a tech-geek, multidisciplinary programmer, mobile application developer, and a web developer. Zaid Ahmed has experience in building software for both startups, individuals, and entreprises.\"/><meta name=\"keywords\" content=\"zaid, ahmed, soomro, zaid ahmed, zaid ahmed soomro, zaid soomro, technology, science, iamzaidsoomro, zaidsoomro17, programming, portfolio, personal website, software engineer, software developer, software engineering, swe, muet, ses, gdsc, gdscmuet, google, gdsc lead, flutter, react, reactjs, firebase, courses, learning, freelancing, speaker\"/><link rel=\"apple-touch-icon\" href=\"/logo192.png\"/><link rel=\"manifest\" href=\"./manifest.json\"/><script defer=\"defer\" src=\"/__/firebase/9.9.3/firebase-app-compat.js\"></script><script defer=\"defer\" src=\"/__/firebase/9.9.3/firebase-auth-compat.js\"></script><script defer=\"defer\" src=\"/__/firebase/9.9.3/firebase-database-compat.js\"></script><script defer=\"defer\" src=\"/__/firebase/9.9.3/firebase-firestore-compat.js\"></script><script defer=\"defer\" src=\"/__/firebase/9.9.3/firebase-functions-compat.js\"></script><script defer=\"defer\" src=\"/__/firebase/9.9.3/firebase-messaging-compat.js\"></script><script defer=\"defer\" src=\"/__/firebase/9.9.3/firebase-storage-compat.js\"></script><script defer=\"defer\" src=\"/__/firebase/9.9.3/firebase-analytics-compat.js\"></script><script defer=\"defer\" src=\"/__/firebase/9.9.3/firebase-remote-config-compat.js\"></script><script defer=\"defer\" src=\"/__/firebase/9.9.3/firebase-performance-compat.js\"></script><script defer=\"defer\" src=\"/__/firebase/init.js?useEmulator=true\"></script><link rel=\"stylesheet\" href=\"https://unpkg.com/aos@next/dist/aos.css\"/><title>Zaid Ahmed Soomro - Software Solutions</title><script defer=\"defer\" src=\"/static/js/main.8895c4d7.js\"></script><link href=\"/static/css/main.fdccbbcb.css\" rel=\"stylesheet\"></head><body><noscript>You need to enable JavaScript to run this app.</noscript><div id=\"root\"></div><script src=\"https://unpkg.com/aos@next/dist/aos.js\"></script><script>AOS.init()</script></body></html>\n"
          ]
        }
      ],
      "source": [
        "import requests\n",
        "\n",
        "# Fetch a web page\n",
        "r = requests.get(\"https://zaidahmedsoomro.tech\")\n",
        "print(r.text)"
      ]
    },
    {
      "cell_type": "code",
      "execution_count": null,
      "metadata": {
        "id": "24gp_p8pG59X",
        "colab": {
          "base_uri": "https://localhost:8080/"
        },
        "outputId": "796cd0f3-4ae9-4da0-f8a7-902bec5ffab7"
      },
      "outputs": [
        {
          "output_type": "stream",
          "name": "stdout",
          "text": [
            "Zaid Ahmed Soomro - Software SolutionsYou need to enable JavaScript to run this app.AOS.init()\n"
          ]
        }
      ],
      "source": [
        "import re\n",
        "\n",
        "# Remove HTML tags using RegEx\n",
        "pattern = re.compile(r'<.*?>')  # tags look like <...>\n",
        "print(pattern.sub('', r.text))  # replace them with blank"
      ]
    },
    {
      "cell_type": "code",
      "execution_count": null,
      "metadata": {
        "id": "taniX2HSG59Y",
        "colab": {
          "base_uri": "https://localhost:8080/"
        },
        "outputId": "a87034bc-09aa-4dda-8c10-41fd597e04be"
      },
      "outputs": [
        {
          "output_type": "stream",
          "name": "stdout",
          "text": [
            "Zaid Ahmed Soomro - Software SolutionsYou need to enable JavaScript to run this app.AOS.init()\n"
          ]
        }
      ],
      "source": [
        "from bs4 import BeautifulSoup\n",
        "\n",
        "# Remove HTML tags using Beautiful Soup library\n",
        "soup = BeautifulSoup(r.text, \"html5lib\")\n",
        "print(soup.get_text())"
      ]
    },
    {
      "cell_type": "code",
      "execution_count": null,
      "metadata": {
        "scrolled": true,
        "id": "EZy5AFjrG59a",
        "colab": {
          "base_uri": "https://localhost:8080/"
        },
        "outputId": "869c134e-83ec-4089-ef5f-dd4c61760f2f"
      },
      "outputs": [
        {
          "output_type": "execute_result",
          "data": {
            "text/plain": [
              "<title>Zaid Ahmed Soomro - Software Solutions</title>"
            ]
          },
          "metadata": {},
          "execution_count": 5
        }
      ],
      "source": [
        "#mw-content-container\n",
        "# Find all articles\n",
        "summaries = soup.find_all(\"title\")\n",
        "summaries[0]"
      ]
    },
    {
      "cell_type": "code",
      "execution_count": null,
      "metadata": {
        "id": "fW4_MdQ0G59c",
        "colab": {
          "base_uri": "https://localhost:8080/",
          "height": 35
        },
        "outputId": "1b1f341a-d779-4647-b891-b7bba1cc025c"
      },
      "outputs": [
        {
          "output_type": "execute_result",
          "data": {
            "text/plain": [
              "'Zaid Ahmed Soomro - Software Solutions'"
            ],
            "application/vnd.google.colaboratory.intrinsic+json": {
              "type": "string"
            }
          },
          "metadata": {},
          "execution_count": 6
        }
      ],
      "source": [
        "# Extract title\n",
        "summaries[0].get_text().strip()"
      ]
    },
    {
      "cell_type": "code",
      "execution_count": null,
      "metadata": {
        "id": "JfBG9OMLG59d",
        "colab": {
          "base_uri": "https://localhost:8080/"
        },
        "outputId": "f9b8f84e-f75a-4d44-862e-2a28cbb2699b"
      },
      "outputs": [
        {
          "output_type": "stream",
          "name": "stdout",
          "text": [
            "1 1 name found. Sample:\n",
            "Zaid Ahmed Soomro - Software Solutions\n"
          ]
        }
      ],
      "source": [
        "# Find all articles, extract titles\n",
        "articles = []\n",
        "for summary in summaries:\n",
        "    title = summary.get_text().strip()\n",
        "    articles.append((title))\n",
        "\n",
        "print(len(articles), \"1 name found. Sample:\")\n",
        "print(articles[0])"
      ]
    },
    {
      "cell_type": "markdown",
      "metadata": {
        "collapsed": true,
        "id": "zhi2M9J8G59f"
      },
      "source": [
        "## Normalization"
      ]
    },
    {
      "cell_type": "markdown",
      "metadata": {
        "id": "lZUYirLMG59g"
      },
      "source": [
        "### Case Normalization"
      ]
    },
    {
      "cell_type": "code",
      "execution_count": null,
      "metadata": {
        "id": "H3bcoFMGG59g",
        "colab": {
          "base_uri": "https://localhost:8080/"
        },
        "outputId": "4e339dbb-65c7-4703-9294-6c9b634d11c9"
      },
      "outputs": [
        {
          "output_type": "stream",
          "name": "stdout",
          "text": [
            "The first time you see The Second Renaissance it may look boring. Look at it at least twice and definitely watch part 2. It will change your view of the matrix. Are the human people the ones who started the war ? Is AI a bad thing ?\n"
          ]
        }
      ],
      "source": [
        "# Sample text\n",
        "text = \"The first time you see The Second Renaissance it may look boring. Look at it at least twice and definitely watch part 2. It will change your view of the matrix. Are the human people the ones who started the war ? Is AI a bad thing ?\"\n",
        "print(text)"
      ]
    },
    {
      "cell_type": "code",
      "execution_count": null,
      "metadata": {
        "id": "CXoHq54jG59h",
        "colab": {
          "base_uri": "https://localhost:8080/"
        },
        "outputId": "9eca9071-c6b9-4f58-ad87-dc5983bc9fe1"
      },
      "outputs": [
        {
          "output_type": "stream",
          "name": "stdout",
          "text": [
            "zaid ahmed soomro - software solutions\n"
          ]
        }
      ],
      "source": [
        "# Convert to lowercase\n",
        "text = articles[0].lower()\n",
        "print(text)"
      ]
    },
    {
      "cell_type": "markdown",
      "metadata": {
        "id": "FaxxaSVhG59i"
      },
      "source": [
        "### Punctuation Removal"
      ]
    },
    {
      "cell_type": "code",
      "execution_count": null,
      "metadata": {
        "id": "xEY1a-sDG59j",
        "colab": {
          "base_uri": "https://localhost:8080/"
        },
        "outputId": "5fa701fc-41b9-4663-d173-375aeaad0771"
      },
      "outputs": [
        {
          "output_type": "stream",
          "name": "stdout",
          "text": [
            "zaid ahmed soomro   software solutions\n"
          ]
        }
      ],
      "source": [
        "import re\n",
        "\n",
        "# Remove punctuation characters\n",
        "text = re.sub(r\"[^a-zA-Z0-9]\", \" \", text)\n",
        "print(text)"
      ]
    },
    {
      "cell_type": "markdown",
      "metadata": {
        "id": "PcTKfuNtG59j"
      },
      "source": [
        "## Tokenization"
      ]
    },
    {
      "cell_type": "code",
      "execution_count": null,
      "metadata": {
        "id": "lBesyQF6G59k",
        "colab": {
          "base_uri": "https://localhost:8080/"
        },
        "outputId": "c2a11f48-86ff-45b3-af82-2be03df7e0bc"
      },
      "outputs": [
        {
          "output_type": "stream",
          "name": "stdout",
          "text": [
            "['zaid', 'ahmed', 'soomro', 'software', 'solutions']\n"
          ]
        }
      ],
      "source": [
        "# Split text into tokens (words)\n",
        "words = text.split()\n",
        "print(words)"
      ]
    },
    {
      "cell_type": "markdown",
      "metadata": {
        "id": "pKFyHoKZG59l"
      },
      "source": [
        "### NLTK: Natural Language ToolKit"
      ]
    },
    {
      "cell_type": "code",
      "execution_count": null,
      "metadata": {
        "id": "gcFJR9GcG59l"
      },
      "outputs": [],
      "source": [
        "import os\n",
        "import nltk\n",
        "nltk.data.path.append(os.path.join(os.getcwd(), \"nltk_data\"))"
      ]
    },
    {
      "cell_type": "code",
      "execution_count": null,
      "metadata": {
        "id": "oHrxoX6DG59m",
        "colab": {
          "base_uri": "https://localhost:8080/"
        },
        "outputId": "bab8f262-e253-4513-b830-7d28685e4b15"
      },
      "outputs": [
        {
          "output_type": "stream",
          "name": "stdout",
          "text": [
            "Zaid Ahmed Soomro - Software Solutions\n"
          ]
        }
      ],
      "source": [
        "# Another sample text\n",
        "text = articles[0]\n",
        "print(text)"
      ]
    },
    {
      "cell_type": "code",
      "execution_count": null,
      "metadata": {
        "id": "chFzSBaIG59m",
        "colab": {
          "base_uri": "https://localhost:8080/"
        },
        "outputId": "3eec4e77-7f6a-41c0-8b22-52db3f561faa"
      },
      "outputs": [
        {
          "output_type": "stream",
          "name": "stderr",
          "text": [
            "[nltk_data] Downloading package punkt to /root/nltk_data...\n",
            "[nltk_data]   Unzipping tokenizers/punkt.zip.\n"
          ]
        },
        {
          "output_type": "stream",
          "name": "stdout",
          "text": [
            "['Zaid', 'Ahmed', 'Soomro', '-', 'Software', 'Solutions']\n"
          ]
        }
      ],
      "source": [
        "from nltk.tokenize import word_tokenize\n",
        "nltk.download('punkt')\n",
        "# Split text into words using NLTK\n",
        "words = word_tokenize(text)\n",
        "print(words)"
      ]
    },
    {
      "cell_type": "code",
      "execution_count": null,
      "metadata": {
        "id": "qI-Vs7t1G59n",
        "colab": {
          "base_uri": "https://localhost:8080/"
        },
        "outputId": "6276b896-3b41-4784-e0b6-9c3524483030"
      },
      "outputs": [
        {
          "output_type": "stream",
          "name": "stdout",
          "text": [
            "['Zaid Ahmed Soomro - Software Solutions']\n"
          ]
        }
      ],
      "source": [
        "from nltk.tokenize import sent_tokenize\n",
        "\n",
        "# Split text into sentences\n",
        "sentences = sent_tokenize(text)\n",
        "print(sentences)"
      ]
    },
    {
      "cell_type": "code",
      "execution_count": null,
      "metadata": {
        "id": "MO9XYFtVG59o",
        "colab": {
          "base_uri": "https://localhost:8080/"
        },
        "outputId": "55140c7f-d354-4ba0-99ea-8d6a099da004"
      },
      "outputs": [
        {
          "output_type": "stream",
          "name": "stdout",
          "text": [
            "['i', 'me', 'my', 'myself', 'we', 'our', 'ours', 'ourselves', 'you', \"you're\", \"you've\", \"you'll\", \"you'd\", 'your', 'yours', 'yourself', 'yourselves', 'he', 'him', 'his', 'himself', 'she', \"she's\", 'her', 'hers', 'herself', 'it', \"it's\", 'its', 'itself', 'they', 'them', 'their', 'theirs', 'themselves', 'what', 'which', 'who', 'whom', 'this', 'that', \"that'll\", 'these', 'those', 'am', 'is', 'are', 'was', 'were', 'be', 'been', 'being', 'have', 'has', 'had', 'having', 'do', 'does', 'did', 'doing', 'a', 'an', 'the', 'and', 'but', 'if', 'or', 'because', 'as', 'until', 'while', 'of', 'at', 'by', 'for', 'with', 'about', 'against', 'between', 'into', 'through', 'during', 'before', 'after', 'above', 'below', 'to', 'from', 'up', 'down', 'in', 'out', 'on', 'off', 'over', 'under', 'again', 'further', 'then', 'once', 'here', 'there', 'when', 'where', 'why', 'how', 'all', 'any', 'both', 'each', 'few', 'more', 'most', 'other', 'some', 'such', 'no', 'nor', 'not', 'only', 'own', 'same', 'so', 'than', 'too', 'very', 's', 't', 'can', 'will', 'just', 'don', \"don't\", 'should', \"should've\", 'now', 'd', 'll', 'm', 'o', 're', 've', 'y', 'ain', 'aren', \"aren't\", 'couldn', \"couldn't\", 'didn', \"didn't\", 'doesn', \"doesn't\", 'hadn', \"hadn't\", 'hasn', \"hasn't\", 'haven', \"haven't\", 'isn', \"isn't\", 'ma', 'mightn', \"mightn't\", 'mustn', \"mustn't\", 'needn', \"needn't\", 'shan', \"shan't\", 'shouldn', \"shouldn't\", 'wasn', \"wasn't\", 'weren', \"weren't\", 'won', \"won't\", 'wouldn', \"wouldn't\"]\n"
          ]
        },
        {
          "output_type": "stream",
          "name": "stderr",
          "text": [
            "[nltk_data] Downloading package stopwords to /root/nltk_data...\n",
            "[nltk_data]   Unzipping corpora/stopwords.zip.\n"
          ]
        }
      ],
      "source": [
        "# List stop words\n",
        "from nltk.corpus import stopwords\n",
        "nltk.download('stopwords')\n",
        "print(stopwords.words(\"english\"))"
      ]
    },
    {
      "cell_type": "code",
      "execution_count": null,
      "metadata": {
        "id": "IdynKMMTG59p",
        "colab": {
          "base_uri": "https://localhost:8080/"
        },
        "outputId": "d5279995-800a-4778-dc67-db0d7233c231"
      },
      "outputs": [
        {
          "output_type": "stream",
          "name": "stdout",
          "text": [
            "['zaid', 'ahmed', 'soomro', 'software', 'solutions']\n"
          ]
        }
      ],
      "source": [
        "# Reset text\n",
        "text = articles[0]\n",
        "\n",
        "# Normalize it\n",
        "text = re.sub(r\"[^a-zA-Z0-9]\", \" \", text.lower())\n",
        "\n",
        "# Tokenize it\n",
        "words = text.split()\n",
        "print(words)"
      ]
    },
    {
      "cell_type": "code",
      "execution_count": null,
      "metadata": {
        "id": "kGI6p4o-G59p",
        "colab": {
          "base_uri": "https://localhost:8080/"
        },
        "outputId": "6c0ca196-989b-4da2-f564-a8fb3a1db921"
      },
      "outputs": [
        {
          "output_type": "stream",
          "name": "stdout",
          "text": [
            "['zaid', 'ahmed', 'soomro', 'software', 'solutions']\n"
          ]
        }
      ],
      "source": [
        "# Remove stop words\n",
        "words = [w for w in words if w not in stopwords.words(\"english\")]\n",
        "print(words)"
      ]
    },
    {
      "cell_type": "markdown",
      "metadata": {
        "id": "eAdBH09jG59q"
      },
      "source": [
        "### Sentence Parsing"
      ]
    },
    {
      "cell_type": "code",
      "execution_count": null,
      "metadata": {
        "id": "D8mN5Q-KG59q",
        "colab": {
          "base_uri": "https://localhost:8080/"
        },
        "outputId": "3e4c400f-fc7d-4df9-ca20-f601697c4049"
      },
      "outputs": [
        {
          "output_type": "stream",
          "name": "stdout",
          "text": [
            "(S\n",
            "  (NP I)\n",
            "  (VP\n",
            "    (VP (V shot) (NP (Det an) (N elephant)))\n",
            "    (PP (P in) (NP (Det my) (N pajamas)))))\n",
            "(S\n",
            "  (NP I)\n",
            "  (VP\n",
            "    (V shot)\n",
            "    (NP (Det an) (N elephant) (PP (P in) (NP (Det my) (N pajamas))))))\n"
          ]
        }
      ],
      "source": [
        "import nltk\n",
        "\n",
        "# Define a custom grammar\n",
        "my_grammar = nltk.CFG.fromstring(\"\"\"\n",
        "S -> NP VP\n",
        "PP -> P NP\n",
        "NP -> Det N | Det N PP | 'I'\n",
        "VP -> V NP | VP PP\n",
        "Det -> 'an' | 'my'\n",
        "N -> 'elephant' | 'pajamas'\n",
        "V -> 'shot'\n",
        "P -> 'in'\n",
        "\"\"\")\n",
        "parser = nltk.ChartParser(my_grammar)\n",
        "\n",
        "# Parse a sentence\n",
        "sentence = word_tokenize(\"I shot an elephant in my pajamas\")\n",
        "for tree in parser.parse(sentence):\n",
        "    print(tree)"
      ]
    },
    {
      "cell_type": "markdown",
      "metadata": {
        "id": "mP6BE3ViG59r"
      },
      "source": [
        "## Stemming & Lemmatization\n",
        "\n",
        "### Stemming"
      ]
    },
    {
      "cell_type": "code",
      "execution_count": null,
      "metadata": {
        "id": "guV3wpPWG59s",
        "colab": {
          "base_uri": "https://localhost:8080/"
        },
        "outputId": "4964cf2c-91eb-4d88-e52b-5fbe1bdf7b0b"
      },
      "outputs": [
        {
          "output_type": "stream",
          "name": "stdout",
          "text": [
            "['zaid', 'ahm', 'soomro', 'softwar', 'solut']\n"
          ]
        }
      ],
      "source": [
        "from nltk.stem.porter import PorterStemmer\n",
        "\n",
        "# Reduce words to their stems\n",
        "stemmed = [PorterStemmer().stem(w) for w in words]\n",
        "print(stemmed)"
      ]
    },
    {
      "cell_type": "markdown",
      "metadata": {
        "id": "L0KB_1sqG59t"
      },
      "source": [
        "### Lemmatization"
      ]
    },
    {
      "cell_type": "code",
      "execution_count": null,
      "metadata": {
        "id": "6nfVzMV2G59t",
        "colab": {
          "base_uri": "https://localhost:8080/"
        },
        "outputId": "f3f5f4bb-6bff-4252-c863-609eac64f426"
      },
      "outputs": [
        {
          "output_type": "stream",
          "name": "stderr",
          "text": [
            "[nltk_data] Downloading package wordnet to /root/nltk_data...\n"
          ]
        },
        {
          "output_type": "stream",
          "name": "stdout",
          "text": [
            "['zaid', 'ahmed', 'soomro', 'software', 'solution']\n"
          ]
        }
      ],
      "source": [
        "from nltk.stem.wordnet import WordNetLemmatizer\n",
        "nltk.download('wordnet')\n",
        "\n",
        "# Reduce words to their root form\n",
        "lemmed = [WordNetLemmatizer().lemmatize(w) for w in words]\n",
        "print(lemmed)"
      ]
    },
    {
      "cell_type": "code",
      "execution_count": null,
      "metadata": {
        "id": "Ls4LCWrsG59u",
        "colab": {
          "base_uri": "https://localhost:8080/"
        },
        "outputId": "ad5d7446-8a0a-4d55-fb8f-4909786c715e"
      },
      "outputs": [
        {
          "output_type": "stream",
          "name": "stdout",
          "text": [
            "['zaid', 'ahmed', 'soomro', 'software', 'solution']\n"
          ]
        }
      ],
      "source": [
        "# Lemmatize verbs by specifying pos\n",
        "lemmed = [WordNetLemmatizer().lemmatize(w, pos='v') for w in lemmed]\n",
        "print(lemmed)"
      ]
    },
    {
      "cell_type": "code",
      "execution_count": null,
      "metadata": {
        "id": "rni6mW8mG59v"
      },
      "outputs": [],
      "source": []
    }
  ],
  "metadata": {
    "kernelspec": {
      "display_name": "Python [conda env:nlpnd]",
      "language": "python",
      "name": "conda-env-nlpnd-py"
    },
    "language_info": {
      "codemirror_mode": {
        "name": "ipython",
        "version": 3
      },
      "file_extension": ".py",
      "mimetype": "text/x-python",
      "name": "python",
      "nbconvert_exporter": "python",
      "pygments_lexer": "ipython3",
      "version": "3.5.4"
    },
    "colab": {
      "provenance": [],
      "include_colab_link": true
    }
  },
  "nbformat": 4,
  "nbformat_minor": 0
}