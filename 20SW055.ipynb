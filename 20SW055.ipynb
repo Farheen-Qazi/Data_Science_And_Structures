{
  "nbformat": 4,
  "nbformat_minor": 0,
  "metadata": {
    "colab": {
      "provenance": [],
      "authorship_tag": "ABX9TyPc88etXS378yIY/XsCz1AZ",
      "include_colab_link": true
    },
    "kernelspec": {
      "name": "python3",
      "display_name": "Python 3"
    },
    "language_info": {
      "name": "python"
    }
  },
  "cells": [
    {
      "cell_type": "markdown",
      "metadata": {
        "id": "view-in-github",
        "colab_type": "text"
      },
      "source": [
        "<a href=\"https://colab.research.google.com/github/Farheen-Qazi/Data_Science_And_Structures/blob/main/20SW055.ipynb\" target=\"_parent\"><img src=\"https://colab.research.google.com/assets/colab-badge.svg\" alt=\"Open In Colab\"/></a>"
      ]
    },
    {
      "cell_type": "code",
      "source": [
        "answer = 42  # You can replace this with any number you want to hide\n",
        "\n",
        "guess = int(input(\"Enter your guess: \"))\n",
        "\n",
        "if guess == answer:\n",
        "    print(\"Congratulations! Your guess is correct!\")\n",
        "elif guess < answer:\n",
        "    print(\"Too low! Try a higher number.\")\n",
        "else:\n",
        "    print(\"Too high! Try a lower number.\")"
      ],
      "metadata": {
        "colab": {
          "base_uri": "https://localhost:8080/"
        },
        "id": "TaoiFQCxyoJ0",
        "outputId": "c682ccab-c2bf-428d-b55b-3a6a03f8a969"
      },
      "execution_count": 12,
      "outputs": [
        {
          "output_type": "stream",
          "name": "stdout",
          "text": [
            "Enter your guess: 23\n",
            "Too low! Try a higher number.\n"
          ]
        }
      ]
    },
    {
      "cell_type": "code",
      "source": [
        "sentence = [\"the\", \"quick\", \"brown\", \"fox\", \"jumped\", \"over\", \"the\", \"lazy\", \"dog\"]\n",
        "\n",
        "for word in sentence:\n",
        "    print(word)"
      ],
      "metadata": {
        "colab": {
          "base_uri": "https://localhost:8080/"
        },
        "id": "CaaDqO-EzEiD",
        "outputId": "3f802e1f-62a5-43dd-dea3-2f900de29604"
      },
      "execution_count": 14,
      "outputs": [
        {
          "output_type": "stream",
          "name": "stdout",
          "text": [
            "the\n",
            "quick\n",
            "brown\n",
            "fox\n",
            "jumped\n",
            "over\n",
            "the\n",
            "lazy\n",
            "dog\n"
          ]
        }
      ]
    },
    {
      "cell_type": "code",
      "source": [
        "for num in range(5, 31,5):\n",
        "    print(num)"
      ],
      "metadata": {
        "colab": {
          "base_uri": "https://localhost:8080/"
        },
        "id": "CWwB4bl1zOCI",
        "outputId": "ced7a645-438d-4bda-93f9-378aeb0731f9"
      },
      "execution_count": 23,
      "outputs": [
        {
          "output_type": "stream",
          "name": "stdout",
          "text": [
            "5\n",
            "10\n",
            "15\n",
            "20\n",
            "25\n",
            "30\n"
          ]
        }
      ]
    },
    {
      "cell_type": "code",
      "source": [
        "names = [\"Rick Sanchez\", \"Morty Smith\", \"Summer Smith\", \"Jerry Smith\", \"Beth Smith\"]\n",
        "\n",
        "first_names = [name.split()[0].lower() for name in names]\n",
        "print(first_names)"
      ],
      "metadata": {
        "colab": {
          "base_uri": "https://localhost:8080/"
        },
        "id": "VJ8SjeDzzYH1",
        "outputId": "5a65d7a0-f6d7-46b1-b2c7-b03e53a43fcc"
      },
      "execution_count": 16,
      "outputs": [
        {
          "output_type": "stream",
          "name": "stdout",
          "text": [
            "['rick', 'morty', 'summer', 'jerry', 'beth']\n"
          ]
        }
      ]
    },
    {
      "cell_type": "code",
      "source": [
        "# Assuming you have a list of names and scores like this\n",
        "names_scores = [(\"Rick Sanchez\", 70), (\"Morty Smith\", 35), (\"Summer Smith\", 82), (\"Jerry Smith\", 23), (\"Beth Smith\", 98)]\n",
        "\n",
        "# List comprehension to filter names with scores >= 65\n",
        "passed_names = [name for name, score in names_scores if score >= 65]\n",
        "\n",
        "print(passed_names)"
      ],
      "metadata": {
        "colab": {
          "base_uri": "https://localhost:8080/"
        },
        "id": "tHgo_hzgziv3",
        "outputId": "9db7dd71-f3cc-4345-9fb4-6a5e69087cad"
      },
      "execution_count": 17,
      "outputs": [
        {
          "output_type": "stream",
          "name": "stdout",
          "text": [
            "['John', 'Alice', 'Mary']\n"
          ]
        }
      ]
    },
    {
      "cell_type": "code",
      "source": [
        "names = [\"Barney\", \"Roben\", \"Ted\", \"Lily\", \"Marshell\"]\n",
        "heights = [72,68,72,66,76]\n",
        "\n",
        "# Using zip to create the dictionary\n",
        "cast = dict(zip(names, heights))\n",
        "\n",
        "print(cast)"
      ],
      "metadata": {
        "colab": {
          "base_uri": "https://localhost:8080/"
        },
        "id": "B_mNR2J7zvsi",
        "outputId": "69cf580d-dd8f-44d0-c5c9-8cd320e27c9d"
      },
      "execution_count": 18,
      "outputs": [
        {
          "output_type": "stream",
          "name": "stdout",
          "text": [
            "{'Alice': 165, 'Bob': 175, 'Charlie': 160, 'David': 180}\n"
          ]
        }
      ]
    },
    {
      "cell_type": "code",
      "source": [
        "cast = [\"Barney Stinson\", \"Ted Mosby\", \"Marshall Eriksen\", \"Robin Scherbatsky\", \"Lily Aldrin\"]\n",
        "heights = [72, 70, 74, 68, 66]\n",
        "\n",
        "# Using enumerate and list comprehension to modify the cast list\n",
        "cast_with_height = [f\"{name} {height}\" for name, height in zip(cast, heights)]\n",
        "\n",
        "print(cast_with_height)"
      ],
      "metadata": {
        "colab": {
          "base_uri": "https://localhost:8080/"
        },
        "id": "vhszbbdsz4n4",
        "outputId": "29798d6c-5a15-441b-f793-5d8b0466a8a7"
      },
      "execution_count": 19,
      "outputs": [
        {
          "output_type": "stream",
          "name": "stdout",
          "text": [
            "['Barney Stinson 72', 'Ted Mosby 70', 'Marshall Eriksen 74', 'Robin Scherbatsky 68', 'Lily Aldrin 66']\n"
          ]
        }
      ]
    }
  ]
}