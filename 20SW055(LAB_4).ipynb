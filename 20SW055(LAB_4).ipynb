{
  "nbformat": 4,
  "nbformat_minor": 0,
  "metadata": {
    "colab": {
      "provenance": [],
      "authorship_tag": "ABX9TyOSXVaHOpp64c9e5xA/0G+G",
      "include_colab_link": true
    },
    "kernelspec": {
      "name": "python3",
      "display_name": "Python 3"
    },
    "language_info": {
      "name": "python"
    }
  },
  "cells": [
    {
      "cell_type": "markdown",
      "metadata": {
        "id": "view-in-github",
        "colab_type": "text"
      },
      "source": [
        "<a href=\"https://colab.research.google.com/github/Farheen-Qazi/Data_Science_And_Structures/blob/main/20SW055(LAB_4).ipynb\" target=\"_parent\"><img src=\"https://colab.research.google.com/assets/colab-badge.svg\" alt=\"Open In Colab\"/></a>"
      ]
    },
    {
      "cell_type": "markdown",
      "source": [
        "***LAB 4 TASKS***"
      ],
      "metadata": {
        "id": "1bV9gOkkiueW"
      }
    },
    {
      "cell_type": "markdown",
      "source": [
        "Task Number *One*"
      ],
      "metadata": {
        "id": "ybNHHYE4i5vT"
      }
    },
    {
      "cell_type": "code",
      "source": [
        "import numpy as np\n",
        "\n",
        "\n",
        "X = np.arange(1, 26).reshape(5, 5)\n",
        "\n",
        "\n",
        "Y = X[X % 2 != 0]\n",
        "\n",
        "print(\"Original array:\\n\", X)\n",
        "print(\"Array with odd numbers:\\n\", Y)"
      ],
      "metadata": {
        "colab": {
          "base_uri": "https://localhost:8080/"
        },
        "id": "i-5UWepdfDVB",
        "outputId": "36e53a9c-b68d-4915-d09d-a2c3b5dc3992"
      },
      "execution_count": 2,
      "outputs": [
        {
          "output_type": "stream",
          "name": "stdout",
          "text": [
            "Original array:\n",
            " [[ 1  2  3  4  5]\n",
            " [ 6  7  8  9 10]\n",
            " [11 12 13 14 15]\n",
            " [16 17 18 19 20]\n",
            " [21 22 23 24 25]]\n",
            "Array with odd numbers:\n",
            " [ 1  3  5  7  9 11 13 15 17 19 21 23 25]\n"
          ]
        }
      ]
    },
    {
      "cell_type": "markdown",
      "source": [
        "Task Number *Two*"
      ],
      "metadata": {
        "id": "gtzTRaJni-tj"
      }
    },
    {
      "cell_type": "code",
      "execution_count": 1,
      "metadata": {
        "colab": {
          "base_uri": "https://localhost:8080/"
        },
        "id": "aCLHnfape887",
        "outputId": "89cb690f-d650-4332-fc72-67ddc9c2dac0"
      },
      "outputs": [
        {
          "output_type": "stream",
          "name": "stdout",
          "text": [
            "[[ 2  4  6  8]\n",
            " [10 12 14 16]\n",
            " [18 20 22 24]\n",
            " [26 28 30 32]]\n"
          ]
        }
      ],
      "source": [
        "import numpy as np\n",
        "\n",
        "\n",
        "even_numbers = np.arange(2, 33, 2)\n",
        "\n",
        "\n",
        "X = even_numbers.reshape(4, 4)\n",
        "\n",
        "print(X)"
      ]
    },
    {
      "cell_type": "markdown",
      "source": [
        "Task Number *Three*"
      ],
      "metadata": {
        "id": "m1DFsjpzjDS8"
      }
    },
    {
      "cell_type": "markdown",
      "source": [],
      "metadata": {
        "id": "QRzuaQO9ip-Q"
      }
    },
    {
      "cell_type": "code",
      "source": [
        "import numpy as np\n",
        "\n",
        "\n",
        "X = np.arange(1, 5).reshape(4, 1) * np.ones((1, 4))\n",
        "\n",
        "print(X)\n"
      ],
      "metadata": {
        "colab": {
          "base_uri": "https://localhost:8080/"
        },
        "id": "KZed5oUVfH2A",
        "outputId": "d90e522d-ea87-48aa-9144-6186e2c42497"
      },
      "execution_count": 3,
      "outputs": [
        {
          "output_type": "stream",
          "name": "stdout",
          "text": [
            "[[1. 1. 1. 1.]\n",
            " [2. 2. 2. 2.]\n",
            " [3. 3. 3. 3.]\n",
            " [4. 4. 4. 4.]]\n"
          ]
        }
      ]
    },
    {
      "cell_type": "markdown",
      "source": [
        "Task Number *Four*"
      ],
      "metadata": {
        "id": "_65fIhgGjIpv"
      }
    },
    {
      "cell_type": "code",
      "source": [
        "from google.colab import drive\n",
        "drive.mount('/NumPy.ipnyb')\n",
        "\n",
        "import numpy as np\n",
        "\n",
        "# Create a 1000x20 ndarray with random integers in the range [0, 5001)\n",
        "X = np.random.randint(0, 5001, size=(1000, 20))\n",
        "# Print the shape of X\n",
        "print(X.shape)\n",
        "\n",
        "# Calculate the average of the values in each column of X\n",
        "ave_cols = np.mean(X, axis=0)\n",
        "\n",
        "# Calculate the standard deviation of the values in each column of X\n",
        "std_cols = np.std(X, axis=0)\n",
        "\n",
        "\n",
        "print(\"Shape of ave_cols:\", ave_cols.shape)\n",
        "print(\"Shape of std_cols:\", std_cols.shape)\n",
        "\n",
        "# Mean normalize X\n",
        "X_norm = (X - ave_cols) / std_cols\n",
        "\n",
        "print(\"Mean normalized X:\")\n",
        "print(X_norm)\n",
        "\n",
        "# Print the average of all the values of X_norm\n",
        "ave_all_values = np.mean(X_norm)\n",
        "print(\"Average of all values in X_norm:\", ave_all_values)\n",
        "\n",
        "# Print the average of the minimum value in each column of X_norm\n",
        "ave_min_values = np.mean(np.min(X_norm, axis=0))\n",
        "print(\"Average of minimum values in each column of X_norm:\", ave_min_values)\n",
        "\n",
        "# Print the average of the maximum value in each column of X_norm\n",
        "ave_max_values = np.mean(np.max(X_norm, axis=0))\n",
        "print(\"Average of maximum values in each column of X_norm:\", ave_max_values)\n",
        "\n",
        "# We create a random permutation of integers 0 to 4\n",
        "np.random.permutation(5)\n",
        "\n",
        "# Create a random permutation of row indices of X_norm\n",
        "row_indices = np.random.permutation(X_norm.shape[0])\n",
        "\n",
        "print(\"Random permutation of row indices:\", row_indices)\n",
        "\n",
        "\n",
        "# Define the ratios for training, cross-validation, and test sets\n",
        "train_ratio = 0.6\n",
        "cross_val_ratio = 0.2\n",
        "test_ratio = 0.2\n",
        "\n",
        "# Calculate the sizes of each set based on the ratios\n",
        "num_rows = X_norm.shape[0]\n",
        "num_train = int(train_ratio * num_rows)\n",
        "num_cross_val = int(cross_val_ratio * num_rows)\n",
        "num_test = int(test_ratio * num_rows)\n",
        "\n",
        "# Use row_indices to split the data into sets\n",
        "X_train = X_norm[row_indices[:num_train]]\n",
        "X_crossVal = X_norm[row_indices[num_train:num_train + num_cross_val]]\n",
        "X_test = X_norm[row_indices[num_train + num_cross_val:]]\n",
        "\n",
        "print(\"X_train shape:\", X_train.shape)\n",
        "print(\"X_crossVal shape:\", X_crossVal.shape)\n",
        "print(\"X_test shape:\", X_test.shape)"
      ],
      "metadata": {
        "colab": {
          "base_uri": "https://localhost:8080/"
        },
        "id": "QlMbvgkrfUj9",
        "outputId": "6c2fee7b-d89d-446a-e908-14c2ed0f416d"
      },
      "execution_count": 5,
      "outputs": [
        {
          "output_type": "stream",
          "name": "stdout",
          "text": [
            "Mounted at /NumPy.ipnyb\n",
            "(1000, 20)\n",
            "Shape of ave_cols: (20,)\n",
            "Shape of std_cols: (20,)\n",
            "Mean normalized X:\n",
            "[[ 1.43360152 -1.47314555  1.61927254 ... -0.71594041 -0.92303485\n",
            "   0.72394821]\n",
            " [-0.40768825 -1.24622891 -0.76681281 ... -0.32459779 -1.40268354\n",
            "   0.001692  ]\n",
            " [-0.4617633   1.2498541   0.6651178  ... -0.26184802  0.59756816\n",
            "   1.18686145]\n",
            " ...\n",
            " [ 0.72994134 -0.01909665  0.32913798 ... -0.22878632  1.45119187\n",
            "  -1.22879275]\n",
            " [-1.5494248   1.45003433  0.18664342 ...  0.45876218  0.83567703\n",
            "  -0.11333915]\n",
            " [ 1.2056649   1.49665165 -1.32421799 ...  1.13416557 -0.00833999\n",
            "   1.59888212]]\n",
            "Average of all values in X_norm: 1.6342482922482304e-17\n",
            "Average of minimum values in each column of X_norm: -1.7264394336800888\n",
            "Average of maximum values in each column of X_norm: 1.727799678857322\n",
            "Random permutation of row indices: [262 203 113 975 394 859 464 347 738 312 577 749 672 618 482 679 458 332\n",
            " 490 314 448 706 116  98 268 120 338  30  28 204 304 170 719 895 836 687\n",
            " 807 628 173  64 217 285 108 176 104 972 862 350 626 321 570 316 776 722\n",
            " 631 286 829 951 907 831 339 456 284 121  96 422 274 641 367 841  74 788\n",
            " 833 346 311 226 751 674 624 940 222 158 150 280 402 169 232 939 209 512\n",
            " 318 597 541 299  35 506 440 725 378 613 875 846   2 529 715 932 165 592\n",
            " 406 866 124 843 697 621 432 692  82 676 239 953 575 756 653 589   6 683\n",
            " 485  95 408 916 694 373 709 211 911  78  55 546 145 817 689  59 627 700\n",
            " 540 210  68  29 303 557 477 247 374 410  48 591 798 241 110  86 531  69\n",
            " 488 465 112 654 936 500 308 794 279 118 845 739 527 705 370 451 720 952\n",
            " 891 340 767 874 484 958 868 559 505 117 919 825  24 918 511 345 389 905\n",
            " 223 197 257 856 323 510 935 478 236 191 283  17 401 495 149 238 785 914\n",
            " 768 871 532 523 446 358 369 665 850  53  89 188 433 789 134 827 820 547\n",
            "  34 580 126 310 423 714  47 680 922 877  43 806 754 439 503 359 759 910\n",
            " 443 750 507 671 260 524 909 309 572 957 491 434  87  58 212 351 147 190\n",
            " 596  91 182 901 161 970 945 463 249  41 696 742 194 329 337 181 984  52\n",
            " 863 201  49 652 837 282 764 662 331 792 842 682  32 961 989 403  38 724\n",
            " 384 462 892 154 681 228 213 445 216 880 885 747 431 215 805 828 770 811\n",
            " 648 913 741 144 992 988 415 610 849 140  36 342 986   1 993 278 573  15\n",
            " 542  18 354 973 498 938 802 876  25 325 865 604 293 660 379 132  42 685\n",
            " 385 301 159 582  67 656 670 295 633  22 937 797 107 357 160 760 593  88\n",
            " 579 762 200 574 858 207 944 470 979 219 208 272 333 691 763  66 855 459\n",
            " 732 383  92 661 427 545 744 587 889 933 256 153 980 392  81 870  73 277\n",
            " 163 669 844 605 536 800 128 473 852 896 921 997 125  60 157 225 835 704\n",
            " 612 234 185 998 322 867 693  75 530 598 466 516  54 387 101 372 854 263\n",
            " 688 483 635 900 740 296 400 237  90  19 734 927 562 699 860 894  23 425\n",
            " 684 252 558  13 639 177 109 119 398 959 786 179 946 307 848 269 102 460\n",
            " 712 382 281  33 206 879 454 663 775 758 710 514 886 928 248 987 275  84\n",
            " 990 884 218 341 481  46 822 133 306 472 642 449 781 963 881 711 917 761\n",
            " 199 186 371   0 839 127 971 355 214 493 469 717 658 555 632  76 920 787\n",
            " 254 233 571 376 130 396 395 976 869 405 123 645  45 779 766  21 755 563\n",
            " 492  63 375 276 600  27 349 298 468 614 954 413 320 746 890 736 659 803\n",
            " 499 178  57 180  39 826 136 733 991 780 745 723 550 253 864 436 131 752\n",
            " 361 363 227 515 411 366 716 258 974 851 290   8 675 748 455 646  85 538\n",
            " 430 489 983 420 941 943 887 622 823 291 838 317 504  10  61 273 603 224\n",
            " 821 544 677 364 832 184 915 294 457 796 327 569 437 255 999 496 164 668\n",
            " 251 548 543 690  71 968 908 513 771 139 634 929 664 270 801 537 487 302\n",
            " 453 471 142 713 861 799  37 220 288 441 583  16 995 240 362 698 552 985\n",
            " 196  51 695 778 578 205 148 380 315 721 568 162 409 650 412 584 981 611\n",
            " 774 623   3 429 795 707 678 982 528 292 657 377 155 183 561 816 947 617\n",
            " 882 643 229 585 950 534 818 590  62 581 942 620 784 853 609 923 824 840\n",
            "  94 221 244 424   7 966 328 956 782 231 629 878 417 977 644 242 168 175\n",
            " 565 978 636 267 757 566 793 407 360 404 893 934 606 708 193 630 494 250\n",
            " 898 421 343 486 810 243 655 344 602 535 955 418 808  20  80 246 442 560\n",
            " 297 904  70 452 381 352 386 324 475 105 198 601 336 996 174 520 549 391\n",
            " 651 576 444 319  79 926 397  40 994 783  83   4 726 353 813 138 146 791\n",
            " 419 152  97 640 474 960 189 539 509 261 305 595 172 519 356 271 151 287\n",
            " 931 143 166 428  26 586 348 202 753 615 728 638 883 100 599 414 300 399\n",
            " 962 518 461 701  44 388 815 967 326   9 259 426 393 743 135 718 804 137\n",
            " 567  93 335 965 265 888 731 526 873 476 438 245 814   5 106 156 479  12\n",
            " 230  77 902 666 264 812 673 830 501  14 765 235 969 703 667 616 416 289\n",
            " 730 949 365 925 649 790 114 809 924 857 334 187 777 141 588 447 769 533\n",
            " 903 872 330 467 647  11 554 608 899 729 964 702 502 625 834 564 735 497\n",
            " 390 115 819 521  99  31  56 167 594 912 368 525 508 897  65 556  72 906\n",
            " 450 266 737 129 847 435 522 553 103 517 637 619 192 686 948 773 930 480\n",
            " 171 122 551 727 313 111 607 772 195  50]\n",
            "X_train shape: (600, 20)\n",
            "X_crossVal shape: (200, 20)\n",
            "X_test shape: (200, 20)\n"
          ]
        }
      ]
    }
  ]
}