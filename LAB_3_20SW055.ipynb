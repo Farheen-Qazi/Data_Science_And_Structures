{
  "nbformat": 4,
  "nbformat_minor": 0,
  "metadata": {
    "colab": {
      "provenance": [],
      "authorship_tag": "ABX9TyM4vDO739vTyGv3nOjnHXBl",
      "include_colab_link": true
    },
    "kernelspec": {
      "name": "python3",
      "display_name": "Python 3"
    },
    "language_info": {
      "name": "python"
    }
  },
  "cells": [
    {
      "cell_type": "markdown",
      "metadata": {
        "id": "view-in-github",
        "colab_type": "text"
      },
      "source": [
        "<a href=\"https://colab.research.google.com/github/Farheen-Qazi/Data_Science_And_Structures/blob/main/LAB_3_20SW055.ipynb\" target=\"_parent\"><img src=\"https://colab.research.google.com/assets/colab-badge.svg\" alt=\"Open In Colab\"/></a>"
      ]
    },
    {
      "cell_type": "markdown",
      "source": [
        "**LAB 3 TASKS**"
      ],
      "metadata": {
        "id": "xnM-r4Y_uTM6"
      }
    },
    {
      "cell_type": "markdown",
      "source": [
        "Task Number 1"
      ],
      "metadata": {
        "id": "Md3VRlWOucd_"
      }
    },
    {
      "cell_type": "code",
      "execution_count": 1,
      "metadata": {
        "colab": {
          "base_uri": "https://localhost:8080/"
        },
        "id": "IxbOYWGfpzwP",
        "outputId": "ab900717-0ed4-47bf-db41-411547a27700"
      },
      "outputs": [
        {
          "output_type": "stream",
          "name": "stdout",
          "text": [
            "expected result: 10, actual result: 10.0\n",
            "expected result: 7123.6902801, actual result: 7123.690280065897\n"
          ]
        }
      ],
      "source": [
        "def population_density(population, land_area):\n",
        "    return population / land_area\n",
        "\n",
        "# test cases for your function\n",
        "test1 = population_density(10, 1)\n",
        "expected_result1 = 10\n",
        "print(\"expected result: {}, actual result: {}\".format(expected_result1, test1))\n",
        "\n",
        "test2 = population_density(864816, 121.4)\n",
        "expected_result2 = 7123.6902801\n",
        "print(\"expected result: {}, actual result: {}\".format(expected_result2, test2))"
      ]
    },
    {
      "cell_type": "markdown",
      "source": [
        "Task Number 2"
      ],
      "metadata": {
        "id": "1TvzQpHnujiK"
      }
    },
    {
      "cell_type": "code",
      "source": [
        "def readable_timedelta(days):\n",
        "    weeks = days // 7\n",
        "    remaining_days = days % 7\n",
        "    return \"{} week(s) and {} day(s).\".format(weeks, remaining_days)\n",
        "\n",
        "# test your function\n",
        "print(readable_timedelta(10))"
      ],
      "metadata": {
        "colab": {
          "base_uri": "https://localhost:8080/"
        },
        "id": "7ONLdsTbulkW",
        "outputId": "b1b9e96f-82f1-440b-d017-dbe570d2a759"
      },
      "execution_count": 6,
      "outputs": [
        {
          "output_type": "stream",
          "name": "stdout",
          "text": [
            "1 week(s) and 3 day(s).\n"
          ]
        }
      ]
    },
    {
      "cell_type": "markdown",
      "source": [
        "Task Number 3"
      ],
      "metadata": {
        "id": "Y2njDbFPv0Iv"
      }
    },
    {
      "cell_type": "code",
      "source": [
        "numbers = [\n",
        "    [34, 63, 88, 71, 29],\n",
        "    [90, 78, 51, 27, 45],\n",
        "    [63, 37, 85, 46, 22],\n",
        "    [51, 22, 34, 11, 18]\n",
        "]\n",
        "\n",
        "averages = list(map(lambda num_list: sum(num_list) / len(num_list), numbers))\n",
        "print(averages)"
      ],
      "metadata": {
        "colab": {
          "base_uri": "https://localhost:8080/"
        },
        "id": "DktwsmzUv11T",
        "outputId": "87b352fa-64da-4463-9396-e323d9acc779"
      },
      "execution_count": 7,
      "outputs": [
        {
          "output_type": "stream",
          "name": "stdout",
          "text": [
            "[57.0, 58.2, 50.6, 27.2]\n"
          ]
        }
      ]
    },
    {
      "cell_type": "markdown",
      "source": [
        "Task Number 4"
      ],
      "metadata": {
        "id": "UwggpU93wUQZ"
      }
    },
    {
      "cell_type": "code",
      "source": [
        "cities = [\"New York City\", \"Los Angeles\", \"Chicago\", \"Mountain View\", \"Denver\", \"Boston\"]\n",
        "\n",
        "short_cities = list(filter(lambda name: len(name) < 10, cities))\n",
        "print(short_cities)"
      ],
      "metadata": {
        "colab": {
          "base_uri": "https://localhost:8080/"
        },
        "id": "VDFMXOAJwWaq",
        "outputId": "d5900a4e-f44f-400c-9062-85d4e2a295cb"
      },
      "execution_count": 8,
      "outputs": [
        {
          "output_type": "stream",
          "name": "stdout",
          "text": [
            "['Chicago', 'Denver', 'Boston']\n"
          ]
        }
      ]
    },
    {
      "cell_type": "markdown",
      "source": [
        "Task Number 5"
      ],
      "metadata": {
        "id": "v5FGHYSww3j9"
      }
    },
    {
      "cell_type": "code",
      "source": [
        "# Get and process input for a list of names\n",
        "names_input = input(\"Enter a list of student names separated by commas: \")\n",
        "names = [name.strip() for name in names_input.split(',')]\n",
        "\n",
        "# Get and process input for a list of the number of assignments\n",
        "assignments_input = input(\"Enter the number of missing assignments for each student separated by commas: \")\n",
        "assignments = [int(count.strip()) for count in assignments_input.split(',')]\n",
        "\n",
        "# Get and process input for a list of grades\n",
        "grades_input = input(\"Enter the grades for each student separated by commas: \")\n",
        "grades = [float(grade.strip()) for grade in grades_input.split(',')]\n",
        "\n",
        "# Message string to be used for each student\n",
        "# HINT: use .format() with this string in your for loop\n",
        "message = \"Hi {},\\n\\nThis is a reminder that you have {} assignments left to submit before you can graduate. Your current grade is {} and can increase to {} if you submit all assignments before the due date.\\n\\n\"\n",
        "\n",
        "# Write a for loop that iterates through each set of names, assignments, and grades to print each student's message\n",
        "for name, assignment_count, grade in zip(names, assignments, grades):\n",
        "    potential_grade = grade + 2 * assignment_count\n",
        "    print(message.format(name, assignment_count, grade, potential_grade))"
      ],
      "metadata": {
        "id": "8inXg6oyw5jf"
      },
      "execution_count": null,
      "outputs": []
    },
    {
      "cell_type": "markdown",
      "source": [
        "Task Number 6"
      ],
      "metadata": {
        "id": "MTn9i5lN9BOu"
      }
    },
    {
      "cell_type": "code",
      "source": [
        "with open(\"camelot.txt\") as song:\n",
        "    print(song.read(2))\n",
        "    print(song.read(8))\n",
        "    print(song.read())\n",
        ""
      ],
      "metadata": {
        "colab": {
          "base_uri": "https://localhost:8080/"
        },
        "id": "VFAnFJ-C9E_Q",
        "outputId": "69d360a2-e4ec-4db6-a9f1-46e20c0792a4"
      },
      "execution_count": 1,
      "outputs": [
        {
          "output_type": "stream",
          "name": "stdout",
          "text": [
            "We\n",
            "'re the \n",
            "knights of the round table\n",
            "We dance whenever we're able\n"
          ]
        }
      ]
    },
    {
      "cell_type": "markdown",
      "source": [
        "Tak Number 7"
      ],
      "metadata": {
        "id": "B7LF6UiSxNYV"
      }
    },
    {
      "cell_type": "code",
      "source": [
        "def create_cast_list(filename):\n",
        "    cast_list = []\n",
        "\n",
        "    with open(filename, 'r') as file:\n",
        "        for line in file:\n",
        "            # Split each line using the comma as a separator and take the first part (actor's name)\n",
        "            actor_name = line.split(',')[0].strip()\n",
        "            cast_list.append(actor_name)\n",
        "\n",
        "    return cast_list\n",
        "\n",
        "cast_list = create_cast_list('flying_circus_cast.txt')\n",
        "for actor in cast_list:\n",
        "    print(actor)"
      ],
      "metadata": {
        "colab": {
          "base_uri": "https://localhost:8080/"
        },
        "id": "D64zhjhqxPad",
        "outputId": "1d7df47e-20c3-4791-f4c3-4e4f13d496a1"
      },
      "execution_count": 2,
      "outputs": [
        {
          "output_type": "stream",
          "name": "stdout",
          "text": [
            "Graham Chapman\n",
            "Eric Idle\n",
            "Terry Jones\n",
            "Michael Palin\n",
            "Terry Gilliam\n",
            "John Cleese\n",
            "Carol Cleveland\n",
            "Ian Davidson\n",
            "John Hughman\n",
            "The Fred Tomlinson Singers\n",
            "Connie Booth\n",
            "Bob Raymond\n",
            "Lyn Ashley\n",
            "Rita Davies\n",
            "Stanley Mason\n",
            "David Ballantyne\n",
            "Donna Reading\n",
            "Peter Brett\n",
            "Maureen Flanagan\n",
            "Katya Wyeth\n",
            "Frank Lester\n",
            "Neil Innes\n",
            "Dick Vosburgh\n",
            "Sandra Richards\n",
            "Julia Breck\n",
            "Nicki Howorth\n",
            "Jimmy Hill\n",
            "Barry Cryer\n",
            "Jeannette Wild\n",
            "Marjorie Wilde\n",
            "Marie Anderson\n",
            "Caron Gardner\n",
            "Nosher Powell\n",
            "Carolae Donoghue\n",
            "Vincent Wong\n",
            "Helena Clayton\n",
            "Nigel Jones\n",
            "Roy Gunson\n",
            "Daphne Davey\n",
            "Stenson Falke\n",
            "Alexander Curry\n",
            "Frank Williams\n",
            "Ralph Wood\n",
            "Rosalind Bailey\n",
            "Marion Mould\n",
            "Sheila Sands\n",
            "Richard Baker\n",
            "Douglas Adams\n",
            "Ewa Aulin\n",
            "Reginald Bosanquet\n",
            "Barbara Lindley\n",
            "Roy Brent\n",
            "Jonas Card\n",
            "Tony Christopher\n",
            "Beulah Hughes\n",
            "Peter Kodak\n",
            "Lulu\n",
            "Jay Neill\n",
            "Graham Skidmore\n",
            "Ringo Starr\n",
            "Fred Tomlinson\n",
            "David Hamilton\n",
            "Suzy Mandel\n",
            "Peter Woods\n"
          ]
        }
      ]
    }
  ]
}